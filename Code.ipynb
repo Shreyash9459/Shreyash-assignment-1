{
  "nbformat": 4,
  "nbformat_minor": 0,
  "metadata": {
    "colab": {
      "provenance": [],
      "authorship_tag": "ABX9TyPFVk+cyFefzDLl0FDH+pyu",
      "include_colab_link": true
    },
    "kernelspec": {
      "name": "python3",
      "display_name": "Python 3"
    },
    "language_info": {
      "name": "python"
    }
  },
  "cells": [
    {
      "cell_type": "markdown",
      "metadata": {
        "id": "view-in-github",
        "colab_type": "text"
      },
      "source": [
        "<a href=\"https://colab.research.google.com/github/Shreyash9459/Shreyash-assignment-1/blob/main/Code.ipynb\" target=\"_parent\"><img src=\"https://colab.research.google.com/assets/colab-badge.svg\" alt=\"Open In Colab\"/></a>"
      ]
    },
    {
      "cell_type": "code",
      "source": [
        "# Write a Python program to check whether a given number is Prime or not.\n",
        "\n",
        "a = int(input(\"Enter a number: \"))\n",
        "\n",
        "if a <= 1:\n",
        "    print(\"The number is not a prime number\",a)\n",
        "else:\n",
        "    for i in range(2, a):\n",
        "        if a % i == 0:\n",
        "            print(\"The number is not a prime number\",a)\n",
        "            break\n",
        "    else:\n",
        "        print(\"The number is a prime number\",a)"
      ],
      "metadata": {
        "colab": {
          "base_uri": "https://localhost:8080/"
        },
        "id": "NM4cV14wp916",
        "outputId": "1e41ebed-1891-47b7-bf4a-89bef117e80a"
      },
      "execution_count": 28,
      "outputs": [
        {
          "output_type": "stream",
          "name": "stdout",
          "text": [
            "Enter a number: 15\n",
            "The number is not a prime number 15\n"
          ]
        }
      ]
    }
  ]
}