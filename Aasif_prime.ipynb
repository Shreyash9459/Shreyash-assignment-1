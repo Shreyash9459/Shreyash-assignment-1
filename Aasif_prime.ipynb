{
  "nbformat": 4,
  "nbformat_minor": 0,
  "metadata": {
    "colab": {
      "provenance": [],
      "authorship_tag": "ABX9TyNXh7Z+IKF7W8gIaYSXvERB",
      "include_colab_link": true
    },
    "kernelspec": {
      "name": "python3",
      "display_name": "Python 3"
    },
    "language_info": {
      "name": "python"
    }
  },
  "cells": [
    {
      "cell_type": "markdown",
      "metadata": {
        "id": "view-in-github",
        "colab_type": "text"
      },
      "source": [
        "<a href=\"https://colab.research.google.com/github/Shreyash9459/Shreyash-assignment-1/blob/main/Aasif_prime.ipynb\" target=\"_parent\"><img src=\"https://colab.research.google.com/assets/colab-badge.svg\" alt=\"Open In Colab\"/></a>"
      ]
    },
    {
      "cell_type": "code",
      "source": [
        "# Write a Python program to check whether a given number is Prime or not.\n",
        "\n",
        "a = int(input(\"Enter a number: \"))\n",
        "\n",
        "if a <= 1:\n",
        "    print(\"The number is not a prime number\",a)\n",
        "else:\n",
        "    for i in range(2, a):\n",
        "        if a % i == 0:\n",
        "            print(\"The number is not a prime number\",a)\n",
        "            break\n",
        "    else:\n",
        "        print(\"The number is a prime number\",a)\n",
        "# Coding Complete.\n",
        "\n",
        "# Thank you 😊."
      ],
      "metadata": {
        "colab": {
          "base_uri": "https://localhost:8080/"
        },
        "id": "JixCLu5-uBlC",
        "outputId": "0e3a9b91-e912-45db-f90f-1a734eb9688f"
      },
      "execution_count": 4,
      "outputs": [
        {
          "output_type": "stream",
          "name": "stdout",
          "text": [
            "Enter a number: 13\n",
            "The number is a prime number 13\n"
          ]
        }
      ]
    }
  ]
}